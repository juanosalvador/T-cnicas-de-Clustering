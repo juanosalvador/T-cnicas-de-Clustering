{
  "nbformat": 4,
  "nbformat_minor": 0,
  "metadata": {
    "colab": {
      "name": "Distancias",
      "provenance": [],
      "authorship_tag": "ABX9TyN65COLiQ6bvxvqO+YMrBQ1",
      "include_colab_link": true
    },
    "kernelspec": {
      "name": "python3",
      "display_name": "Python 3"
    },
    "language_info": {
      "name": "python"
    }
  },
  "cells": [
    {
      "cell_type": "markdown",
      "metadata": {
        "id": "view-in-github",
        "colab_type": "text"
      },
      "source": [
        "<a href=\"https://colab.research.google.com/github/juanosalvador/T-cnicas-de-Clustering/blob/main/Distancias.ipynb\" target=\"_parent\"><img src=\"https://colab.research.google.com/assets/colab-badge.svg\" alt=\"Open In Colab\"/></a>"
      ]
    },
    {
      "cell_type": "code",
      "metadata": {
        "id": "BUDUoRTbawSj"
      },
      "source": [
        "import pandas as pd\n",
        "import numpy as np\n",
        "import matplotlib.pyplot as plt\n",
        "from scipy.spatial  import distance_matrix"
      ],
      "execution_count": 2,
      "outputs": []
    },
    {
      "cell_type": "code",
      "metadata": {
        "id": "T5JHuVywb5TM"
      },
      "source": [
        "df = pd.read_csv('https://raw.githubusercontent.com/joanby/python-ml-course/master/datasets/movies/movies.csv', sep = ';')"
      ],
      "execution_count": 3,
      "outputs": []
    },
    {
      "cell_type": "code",
      "metadata": {
        "id": "vwPoYVBAcW15",
        "colab": {
          "base_uri": "https://localhost:8080/",
          "height": 359
        },
        "outputId": "d8aa1bc8-5c13-4970-de99-8582a7c812ef"
      },
      "source": [
        "df"
      ],
      "execution_count": 4,
      "outputs": [
        {
          "output_type": "execute_result",
          "data": {
            "text/html": [
              "<div>\n",
              "<style scoped>\n",
              "    .dataframe tbody tr th:only-of-type {\n",
              "        vertical-align: middle;\n",
              "    }\n",
              "\n",
              "    .dataframe tbody tr th {\n",
              "        vertical-align: top;\n",
              "    }\n",
              "\n",
              "    .dataframe thead th {\n",
              "        text-align: right;\n",
              "    }\n",
              "</style>\n",
              "<table border=\"1\" class=\"dataframe\">\n",
              "  <thead>\n",
              "    <tr style=\"text-align: right;\">\n",
              "      <th></th>\n",
              "      <th>user_id</th>\n",
              "      <th>star_wars</th>\n",
              "      <th>lord_of_the_rings</th>\n",
              "      <th>harry_potter</th>\n",
              "    </tr>\n",
              "  </thead>\n",
              "  <tbody>\n",
              "    <tr>\n",
              "      <th>0</th>\n",
              "      <td>1</td>\n",
              "      <td>1.2</td>\n",
              "      <td>4.9</td>\n",
              "      <td>2.1</td>\n",
              "    </tr>\n",
              "    <tr>\n",
              "      <th>1</th>\n",
              "      <td>2</td>\n",
              "      <td>2.1</td>\n",
              "      <td>8.1</td>\n",
              "      <td>7.9</td>\n",
              "    </tr>\n",
              "    <tr>\n",
              "      <th>2</th>\n",
              "      <td>3</td>\n",
              "      <td>7.4</td>\n",
              "      <td>3.0</td>\n",
              "      <td>9.9</td>\n",
              "    </tr>\n",
              "    <tr>\n",
              "      <th>3</th>\n",
              "      <td>4</td>\n",
              "      <td>5.6</td>\n",
              "      <td>0.5</td>\n",
              "      <td>1.8</td>\n",
              "    </tr>\n",
              "    <tr>\n",
              "      <th>4</th>\n",
              "      <td>5</td>\n",
              "      <td>1.5</td>\n",
              "      <td>8.3</td>\n",
              "      <td>2.6</td>\n",
              "    </tr>\n",
              "    <tr>\n",
              "      <th>5</th>\n",
              "      <td>6</td>\n",
              "      <td>2.5</td>\n",
              "      <td>3.7</td>\n",
              "      <td>6.5</td>\n",
              "    </tr>\n",
              "    <tr>\n",
              "      <th>6</th>\n",
              "      <td>7</td>\n",
              "      <td>2.0</td>\n",
              "      <td>8.2</td>\n",
              "      <td>8.5</td>\n",
              "    </tr>\n",
              "    <tr>\n",
              "      <th>7</th>\n",
              "      <td>8</td>\n",
              "      <td>1.8</td>\n",
              "      <td>9.3</td>\n",
              "      <td>4.5</td>\n",
              "    </tr>\n",
              "    <tr>\n",
              "      <th>8</th>\n",
              "      <td>9</td>\n",
              "      <td>2.6</td>\n",
              "      <td>1.7</td>\n",
              "      <td>3.1</td>\n",
              "    </tr>\n",
              "    <tr>\n",
              "      <th>9</th>\n",
              "      <td>10</td>\n",
              "      <td>1.5</td>\n",
              "      <td>4.7</td>\n",
              "      <td>2.3</td>\n",
              "    </tr>\n",
              "  </tbody>\n",
              "</table>\n",
              "</div>"
            ],
            "text/plain": [
              "   user_id  star_wars  lord_of_the_rings  harry_potter\n",
              "0        1        1.2                4.9           2.1\n",
              "1        2        2.1                8.1           7.9\n",
              "2        3        7.4                3.0           9.9\n",
              "3        4        5.6                0.5           1.8\n",
              "4        5        1.5                8.3           2.6\n",
              "5        6        2.5                3.7           6.5\n",
              "6        7        2.0                8.2           8.5\n",
              "7        8        1.8                9.3           4.5\n",
              "8        9        2.6                1.7           3.1\n",
              "9       10        1.5                4.7           2.3"
            ]
          },
          "metadata": {
            "tags": []
          },
          "execution_count": 4
        }
      ]
    },
    {
      "cell_type": "code",
      "metadata": {
        "colab": {
          "base_uri": "https://localhost:8080/"
        },
        "id": "GSOrkUawAkLd",
        "outputId": "ec964d70-960f-4f88-fd7f-816edb0d7737"
      },
      "source": [
        "## Solo utilzaremos las columnas de nombres de peliculas\n",
        "movies = df.columns.values.tolist()[1:]\n",
        "movies"
      ],
      "execution_count": 5,
      "outputs": [
        {
          "output_type": "execute_result",
          "data": {
            "text/plain": [
              "['star_wars', 'lord_of_the_rings', 'harry_potter']"
            ]
          },
          "metadata": {
            "tags": []
          },
          "execution_count": 5
        }
      ]
    },
    {
      "cell_type": "code",
      "metadata": {
        "colab": {
          "base_uri": "https://localhost:8080/",
          "height": 359
        },
        "id": "46MAYpbvCufY",
        "outputId": "6866ac3e-cf14-477b-8afd-96b0650f0c75"
      },
      "source": [
        "df_movies =df.loc[:,movies]\n",
        "df_movies"
      ],
      "execution_count": 6,
      "outputs": [
        {
          "output_type": "execute_result",
          "data": {
            "text/html": [
              "<div>\n",
              "<style scoped>\n",
              "    .dataframe tbody tr th:only-of-type {\n",
              "        vertical-align: middle;\n",
              "    }\n",
              "\n",
              "    .dataframe tbody tr th {\n",
              "        vertical-align: top;\n",
              "    }\n",
              "\n",
              "    .dataframe thead th {\n",
              "        text-align: right;\n",
              "    }\n",
              "</style>\n",
              "<table border=\"1\" class=\"dataframe\">\n",
              "  <thead>\n",
              "    <tr style=\"text-align: right;\">\n",
              "      <th></th>\n",
              "      <th>star_wars</th>\n",
              "      <th>lord_of_the_rings</th>\n",
              "      <th>harry_potter</th>\n",
              "    </tr>\n",
              "  </thead>\n",
              "  <tbody>\n",
              "    <tr>\n",
              "      <th>0</th>\n",
              "      <td>1.2</td>\n",
              "      <td>4.9</td>\n",
              "      <td>2.1</td>\n",
              "    </tr>\n",
              "    <tr>\n",
              "      <th>1</th>\n",
              "      <td>2.1</td>\n",
              "      <td>8.1</td>\n",
              "      <td>7.9</td>\n",
              "    </tr>\n",
              "    <tr>\n",
              "      <th>2</th>\n",
              "      <td>7.4</td>\n",
              "      <td>3.0</td>\n",
              "      <td>9.9</td>\n",
              "    </tr>\n",
              "    <tr>\n",
              "      <th>3</th>\n",
              "      <td>5.6</td>\n",
              "      <td>0.5</td>\n",
              "      <td>1.8</td>\n",
              "    </tr>\n",
              "    <tr>\n",
              "      <th>4</th>\n",
              "      <td>1.5</td>\n",
              "      <td>8.3</td>\n",
              "      <td>2.6</td>\n",
              "    </tr>\n",
              "    <tr>\n",
              "      <th>5</th>\n",
              "      <td>2.5</td>\n",
              "      <td>3.7</td>\n",
              "      <td>6.5</td>\n",
              "    </tr>\n",
              "    <tr>\n",
              "      <th>6</th>\n",
              "      <td>2.0</td>\n",
              "      <td>8.2</td>\n",
              "      <td>8.5</td>\n",
              "    </tr>\n",
              "    <tr>\n",
              "      <th>7</th>\n",
              "      <td>1.8</td>\n",
              "      <td>9.3</td>\n",
              "      <td>4.5</td>\n",
              "    </tr>\n",
              "    <tr>\n",
              "      <th>8</th>\n",
              "      <td>2.6</td>\n",
              "      <td>1.7</td>\n",
              "      <td>3.1</td>\n",
              "    </tr>\n",
              "    <tr>\n",
              "      <th>9</th>\n",
              "      <td>1.5</td>\n",
              "      <td>4.7</td>\n",
              "      <td>2.3</td>\n",
              "    </tr>\n",
              "  </tbody>\n",
              "</table>\n",
              "</div>"
            ],
            "text/plain": [
              "   star_wars  lord_of_the_rings  harry_potter\n",
              "0        1.2                4.9           2.1\n",
              "1        2.1                8.1           7.9\n",
              "2        7.4                3.0           9.9\n",
              "3        5.6                0.5           1.8\n",
              "4        1.5                8.3           2.6\n",
              "5        2.5                3.7           6.5\n",
              "6        2.0                8.2           8.5\n",
              "7        1.8                9.3           4.5\n",
              "8        2.6                1.7           3.1\n",
              "9        1.5                4.7           2.3"
            ]
          },
          "metadata": {
            "tags": []
          },
          "execution_count": 6
        }
      ]
    },
    {
      "cell_type": "code",
      "metadata": {
        "colab": {
          "base_uri": "https://localhost:8080/",
          "height": 359
        },
        "id": "x1_P0MxxC1FR",
        "outputId": "7501c759-575a-4246-96bb-9f2bee2e8169"
      },
      "source": [
        "df[movies]"
      ],
      "execution_count": 7,
      "outputs": [
        {
          "output_type": "execute_result",
          "data": {
            "text/html": [
              "<div>\n",
              "<style scoped>\n",
              "    .dataframe tbody tr th:only-of-type {\n",
              "        vertical-align: middle;\n",
              "    }\n",
              "\n",
              "    .dataframe tbody tr th {\n",
              "        vertical-align: top;\n",
              "    }\n",
              "\n",
              "    .dataframe thead th {\n",
              "        text-align: right;\n",
              "    }\n",
              "</style>\n",
              "<table border=\"1\" class=\"dataframe\">\n",
              "  <thead>\n",
              "    <tr style=\"text-align: right;\">\n",
              "      <th></th>\n",
              "      <th>star_wars</th>\n",
              "      <th>lord_of_the_rings</th>\n",
              "      <th>harry_potter</th>\n",
              "    </tr>\n",
              "  </thead>\n",
              "  <tbody>\n",
              "    <tr>\n",
              "      <th>0</th>\n",
              "      <td>1.2</td>\n",
              "      <td>4.9</td>\n",
              "      <td>2.1</td>\n",
              "    </tr>\n",
              "    <tr>\n",
              "      <th>1</th>\n",
              "      <td>2.1</td>\n",
              "      <td>8.1</td>\n",
              "      <td>7.9</td>\n",
              "    </tr>\n",
              "    <tr>\n",
              "      <th>2</th>\n",
              "      <td>7.4</td>\n",
              "      <td>3.0</td>\n",
              "      <td>9.9</td>\n",
              "    </tr>\n",
              "    <tr>\n",
              "      <th>3</th>\n",
              "      <td>5.6</td>\n",
              "      <td>0.5</td>\n",
              "      <td>1.8</td>\n",
              "    </tr>\n",
              "    <tr>\n",
              "      <th>4</th>\n",
              "      <td>1.5</td>\n",
              "      <td>8.3</td>\n",
              "      <td>2.6</td>\n",
              "    </tr>\n",
              "    <tr>\n",
              "      <th>5</th>\n",
              "      <td>2.5</td>\n",
              "      <td>3.7</td>\n",
              "      <td>6.5</td>\n",
              "    </tr>\n",
              "    <tr>\n",
              "      <th>6</th>\n",
              "      <td>2.0</td>\n",
              "      <td>8.2</td>\n",
              "      <td>8.5</td>\n",
              "    </tr>\n",
              "    <tr>\n",
              "      <th>7</th>\n",
              "      <td>1.8</td>\n",
              "      <td>9.3</td>\n",
              "      <td>4.5</td>\n",
              "    </tr>\n",
              "    <tr>\n",
              "      <th>8</th>\n",
              "      <td>2.6</td>\n",
              "      <td>1.7</td>\n",
              "      <td>3.1</td>\n",
              "    </tr>\n",
              "    <tr>\n",
              "      <th>9</th>\n",
              "      <td>1.5</td>\n",
              "      <td>4.7</td>\n",
              "      <td>2.3</td>\n",
              "    </tr>\n",
              "  </tbody>\n",
              "</table>\n",
              "</div>"
            ],
            "text/plain": [
              "   star_wars  lord_of_the_rings  harry_potter\n",
              "0        1.2                4.9           2.1\n",
              "1        2.1                8.1           7.9\n",
              "2        7.4                3.0           9.9\n",
              "3        5.6                0.5           1.8\n",
              "4        1.5                8.3           2.6\n",
              "5        2.5                3.7           6.5\n",
              "6        2.0                8.2           8.5\n",
              "7        1.8                9.3           4.5\n",
              "8        2.6                1.7           3.1\n",
              "9        1.5                4.7           2.3"
            ]
          },
          "metadata": {
            "tags": []
          },
          "execution_count": 7
        }
      ]
    },
    {
      "cell_type": "code",
      "metadata": {
        "id": "3oGauh3qC6GQ"
      },
      "source": [
        "## Calculando la matriz de distancias, utilizando tres formas \n",
        "manhattan_distance = distance_matrix(df[movies], df[movies], p=1)\n",
        "euclidean_distance = distance_matrix(df[movies], df[movies], p=2)\n",
        "d10_distance = distance_matrix(df[movies],df[movies], p = 10)"
      ],
      "execution_count": 8,
      "outputs": []
    },
    {
      "cell_type": "code",
      "metadata": {
        "colab": {
          "base_uri": "https://localhost:8080/"
        },
        "id": "Xr7hZdFrf2Pj",
        "outputId": "db2c8381-9315-4fe9-98cf-da9285d4afda"
      },
      "source": [
        "range(0,10)"
      ],
      "execution_count": 9,
      "outputs": [
        {
          "output_type": "execute_result",
          "data": {
            "text/plain": [
              "range(0, 10)"
            ]
          },
          "metadata": {
            "tags": []
          },
          "execution_count": 9
        }
      ]
    },
    {
      "cell_type": "code",
      "metadata": {
        "id": "V6vrihbLFHy7"
      },
      "source": [
        "# funcion para crear un dataframe\n",
        "def array_to_df(matriz, col_names):\n",
        "  import pandas as pd\n",
        "  return pd.DataFrame(matriz, index = range(0,10), columns = range(0,10))"
      ],
      "execution_count": 10,
      "outputs": []
    },
    {
      "cell_type": "code",
      "metadata": {
        "colab": {
          "base_uri": "https://localhost:8080/",
          "height": 359
        },
        "id": "BeYH6X35FTto",
        "outputId": "95ae59c5-c211-4cac-ff56-71f834bf543a"
      },
      "source": [
        "df_manhattan_distance = array_to_df(manhattan_distance, df['user_id'])\n",
        "df_manhattan_distance"
      ],
      "execution_count": 11,
      "outputs": [
        {
          "output_type": "execute_result",
          "data": {
            "text/html": [
              "<div>\n",
              "<style scoped>\n",
              "    .dataframe tbody tr th:only-of-type {\n",
              "        vertical-align: middle;\n",
              "    }\n",
              "\n",
              "    .dataframe tbody tr th {\n",
              "        vertical-align: top;\n",
              "    }\n",
              "\n",
              "    .dataframe thead th {\n",
              "        text-align: right;\n",
              "    }\n",
              "</style>\n",
              "<table border=\"1\" class=\"dataframe\">\n",
              "  <thead>\n",
              "    <tr style=\"text-align: right;\">\n",
              "      <th></th>\n",
              "      <th>0</th>\n",
              "      <th>1</th>\n",
              "      <th>2</th>\n",
              "      <th>3</th>\n",
              "      <th>4</th>\n",
              "      <th>5</th>\n",
              "      <th>6</th>\n",
              "      <th>7</th>\n",
              "      <th>8</th>\n",
              "      <th>9</th>\n",
              "    </tr>\n",
              "  </thead>\n",
              "  <tbody>\n",
              "    <tr>\n",
              "      <th>0</th>\n",
              "      <td>0.0</td>\n",
              "      <td>9.9</td>\n",
              "      <td>15.9</td>\n",
              "      <td>9.1</td>\n",
              "      <td>4.2</td>\n",
              "      <td>6.9</td>\n",
              "      <td>10.5</td>\n",
              "      <td>7.4</td>\n",
              "      <td>5.6</td>\n",
              "      <td>0.7</td>\n",
              "    </tr>\n",
              "    <tr>\n",
              "      <th>1</th>\n",
              "      <td>9.9</td>\n",
              "      <td>0.0</td>\n",
              "      <td>12.4</td>\n",
              "      <td>17.2</td>\n",
              "      <td>6.1</td>\n",
              "      <td>6.2</td>\n",
              "      <td>0.8</td>\n",
              "      <td>4.9</td>\n",
              "      <td>11.7</td>\n",
              "      <td>9.6</td>\n",
              "    </tr>\n",
              "    <tr>\n",
              "      <th>2</th>\n",
              "      <td>15.9</td>\n",
              "      <td>12.4</td>\n",
              "      <td>0.0</td>\n",
              "      <td>12.4</td>\n",
              "      <td>18.5</td>\n",
              "      <td>9.0</td>\n",
              "      <td>12.0</td>\n",
              "      <td>17.3</td>\n",
              "      <td>12.9</td>\n",
              "      <td>15.2</td>\n",
              "    </tr>\n",
              "    <tr>\n",
              "      <th>3</th>\n",
              "      <td>9.1</td>\n",
              "      <td>17.2</td>\n",
              "      <td>12.4</td>\n",
              "      <td>0.0</td>\n",
              "      <td>12.7</td>\n",
              "      <td>11.0</td>\n",
              "      <td>18.0</td>\n",
              "      <td>15.3</td>\n",
              "      <td>5.5</td>\n",
              "      <td>8.8</td>\n",
              "    </tr>\n",
              "    <tr>\n",
              "      <th>4</th>\n",
              "      <td>4.2</td>\n",
              "      <td>6.1</td>\n",
              "      <td>18.5</td>\n",
              "      <td>12.7</td>\n",
              "      <td>0.0</td>\n",
              "      <td>9.5</td>\n",
              "      <td>6.5</td>\n",
              "      <td>3.2</td>\n",
              "      <td>8.2</td>\n",
              "      <td>3.9</td>\n",
              "    </tr>\n",
              "    <tr>\n",
              "      <th>5</th>\n",
              "      <td>6.9</td>\n",
              "      <td>6.2</td>\n",
              "      <td>9.0</td>\n",
              "      <td>11.0</td>\n",
              "      <td>9.5</td>\n",
              "      <td>0.0</td>\n",
              "      <td>7.0</td>\n",
              "      <td>8.3</td>\n",
              "      <td>5.5</td>\n",
              "      <td>6.2</td>\n",
              "    </tr>\n",
              "    <tr>\n",
              "      <th>6</th>\n",
              "      <td>10.5</td>\n",
              "      <td>0.8</td>\n",
              "      <td>12.0</td>\n",
              "      <td>18.0</td>\n",
              "      <td>6.5</td>\n",
              "      <td>7.0</td>\n",
              "      <td>0.0</td>\n",
              "      <td>5.3</td>\n",
              "      <td>12.5</td>\n",
              "      <td>10.2</td>\n",
              "    </tr>\n",
              "    <tr>\n",
              "      <th>7</th>\n",
              "      <td>7.4</td>\n",
              "      <td>4.9</td>\n",
              "      <td>17.3</td>\n",
              "      <td>15.3</td>\n",
              "      <td>3.2</td>\n",
              "      <td>8.3</td>\n",
              "      <td>5.3</td>\n",
              "      <td>0.0</td>\n",
              "      <td>9.8</td>\n",
              "      <td>7.1</td>\n",
              "    </tr>\n",
              "    <tr>\n",
              "      <th>8</th>\n",
              "      <td>5.6</td>\n",
              "      <td>11.7</td>\n",
              "      <td>12.9</td>\n",
              "      <td>5.5</td>\n",
              "      <td>8.2</td>\n",
              "      <td>5.5</td>\n",
              "      <td>12.5</td>\n",
              "      <td>9.8</td>\n",
              "      <td>0.0</td>\n",
              "      <td>4.9</td>\n",
              "    </tr>\n",
              "    <tr>\n",
              "      <th>9</th>\n",
              "      <td>0.7</td>\n",
              "      <td>9.6</td>\n",
              "      <td>15.2</td>\n",
              "      <td>8.8</td>\n",
              "      <td>3.9</td>\n",
              "      <td>6.2</td>\n",
              "      <td>10.2</td>\n",
              "      <td>7.1</td>\n",
              "      <td>4.9</td>\n",
              "      <td>0.0</td>\n",
              "    </tr>\n",
              "  </tbody>\n",
              "</table>\n",
              "</div>"
            ],
            "text/plain": [
              "      0     1     2     3     4     5     6     7     8     9\n",
              "0   0.0   9.9  15.9   9.1   4.2   6.9  10.5   7.4   5.6   0.7\n",
              "1   9.9   0.0  12.4  17.2   6.1   6.2   0.8   4.9  11.7   9.6\n",
              "2  15.9  12.4   0.0  12.4  18.5   9.0  12.0  17.3  12.9  15.2\n",
              "3   9.1  17.2  12.4   0.0  12.7  11.0  18.0  15.3   5.5   8.8\n",
              "4   4.2   6.1  18.5  12.7   0.0   9.5   6.5   3.2   8.2   3.9\n",
              "5   6.9   6.2   9.0  11.0   9.5   0.0   7.0   8.3   5.5   6.2\n",
              "6  10.5   0.8  12.0  18.0   6.5   7.0   0.0   5.3  12.5  10.2\n",
              "7   7.4   4.9  17.3  15.3   3.2   8.3   5.3   0.0   9.8   7.1\n",
              "8   5.6  11.7  12.9   5.5   8.2   5.5  12.5   9.8   0.0   4.9\n",
              "9   0.7   9.6  15.2   8.8   3.9   6.2  10.2   7.1   4.9   0.0"
            ]
          },
          "metadata": {
            "tags": []
          },
          "execution_count": 11
        }
      ]
    },
    {
      "cell_type": "code",
      "metadata": {
        "colab": {
          "base_uri": "https://localhost:8080/",
          "height": 359
        },
        "id": "iGu1c-zpGI96",
        "outputId": "dda09f6e-dd9d-49e0-a36a-ae69ce1c2c78"
      },
      "source": [
        "df_euclidean_distance = array_to_df(euclidean_distance, df['user_id'])\n",
        "df_euclidean_distance"
      ],
      "execution_count": 12,
      "outputs": [
        {
          "output_type": "execute_result",
          "data": {
            "text/html": [
              "<div>\n",
              "<style scoped>\n",
              "    .dataframe tbody tr th:only-of-type {\n",
              "        vertical-align: middle;\n",
              "    }\n",
              "\n",
              "    .dataframe tbody tr th {\n",
              "        vertical-align: top;\n",
              "    }\n",
              "\n",
              "    .dataframe thead th {\n",
              "        text-align: right;\n",
              "    }\n",
              "</style>\n",
              "<table border=\"1\" class=\"dataframe\">\n",
              "  <thead>\n",
              "    <tr style=\"text-align: right;\">\n",
              "      <th></th>\n",
              "      <th>0</th>\n",
              "      <th>1</th>\n",
              "      <th>2</th>\n",
              "      <th>3</th>\n",
              "      <th>4</th>\n",
              "      <th>5</th>\n",
              "      <th>6</th>\n",
              "      <th>7</th>\n",
              "      <th>8</th>\n",
              "      <th>9</th>\n",
              "    </tr>\n",
              "  </thead>\n",
              "  <tbody>\n",
              "    <tr>\n",
              "      <th>0</th>\n",
              "      <td>0.000000</td>\n",
              "      <td>6.685058</td>\n",
              "      <td>10.143471</td>\n",
              "      <td>6.229767</td>\n",
              "      <td>3.449638</td>\n",
              "      <td>4.742362</td>\n",
              "      <td>7.244998</td>\n",
              "      <td>5.047772</td>\n",
              "      <td>3.633180</td>\n",
              "      <td>0.412311</td>\n",
              "    </tr>\n",
              "    <tr>\n",
              "      <th>1</th>\n",
              "      <td>6.685058</td>\n",
              "      <td>0.000000</td>\n",
              "      <td>7.622336</td>\n",
              "      <td>10.354709</td>\n",
              "      <td>5.337602</td>\n",
              "      <td>4.634652</td>\n",
              "      <td>0.616441</td>\n",
              "      <td>3.618011</td>\n",
              "      <td>8.015610</td>\n",
              "      <td>6.578754</td>\n",
              "    </tr>\n",
              "    <tr>\n",
              "      <th>2</th>\n",
              "      <td>10.143471</td>\n",
              "      <td>7.622336</td>\n",
              "      <td>0.000000</td>\n",
              "      <td>8.666026</td>\n",
              "      <td>10.779147</td>\n",
              "      <td>6.004998</td>\n",
              "      <td>7.626270</td>\n",
              "      <td>10.010494</td>\n",
              "      <td>8.424369</td>\n",
              "      <td>9.770363</td>\n",
              "    </tr>\n",
              "    <tr>\n",
              "      <th>3</th>\n",
              "      <td>6.229767</td>\n",
              "      <td>10.354709</td>\n",
              "      <td>8.666026</td>\n",
              "      <td>0.000000</td>\n",
              "      <td>8.848164</td>\n",
              "      <td>6.476110</td>\n",
              "      <td>10.823123</td>\n",
              "      <td>9.958414</td>\n",
              "      <td>3.482815</td>\n",
              "      <td>5.890671</td>\n",
              "    </tr>\n",
              "    <tr>\n",
              "      <th>4</th>\n",
              "      <td>3.449638</td>\n",
              "      <td>5.337602</td>\n",
              "      <td>10.779147</td>\n",
              "      <td>8.848164</td>\n",
              "      <td>0.000000</td>\n",
              "      <td>6.113101</td>\n",
              "      <td>5.921993</td>\n",
              "      <td>2.167948</td>\n",
              "      <td>6.709694</td>\n",
              "      <td>3.612478</td>\n",
              "    </tr>\n",
              "    <tr>\n",
              "      <th>5</th>\n",
              "      <td>4.742362</td>\n",
              "      <td>4.634652</td>\n",
              "      <td>6.004998</td>\n",
              "      <td>6.476110</td>\n",
              "      <td>6.113101</td>\n",
              "      <td>0.000000</td>\n",
              "      <td>4.949747</td>\n",
              "      <td>5.987487</td>\n",
              "      <td>3.945884</td>\n",
              "      <td>4.431704</td>\n",
              "    </tr>\n",
              "    <tr>\n",
              "      <th>6</th>\n",
              "      <td>7.244998</td>\n",
              "      <td>0.616441</td>\n",
              "      <td>7.626270</td>\n",
              "      <td>10.823123</td>\n",
              "      <td>5.921993</td>\n",
              "      <td>4.949747</td>\n",
              "      <td>0.000000</td>\n",
              "      <td>4.153312</td>\n",
              "      <td>8.471718</td>\n",
              "      <td>7.137226</td>\n",
              "    </tr>\n",
              "    <tr>\n",
              "      <th>7</th>\n",
              "      <td>5.047772</td>\n",
              "      <td>3.618011</td>\n",
              "      <td>10.010494</td>\n",
              "      <td>9.958414</td>\n",
              "      <td>2.167948</td>\n",
              "      <td>5.987487</td>\n",
              "      <td>4.153312</td>\n",
              "      <td>0.000000</td>\n",
              "      <td>7.769170</td>\n",
              "      <td>5.107837</td>\n",
              "    </tr>\n",
              "    <tr>\n",
              "      <th>8</th>\n",
              "      <td>3.633180</td>\n",
              "      <td>8.015610</td>\n",
              "      <td>8.424369</td>\n",
              "      <td>3.482815</td>\n",
              "      <td>6.709694</td>\n",
              "      <td>3.945884</td>\n",
              "      <td>8.471718</td>\n",
              "      <td>7.769170</td>\n",
              "      <td>0.000000</td>\n",
              "      <td>3.293934</td>\n",
              "    </tr>\n",
              "    <tr>\n",
              "      <th>9</th>\n",
              "      <td>0.412311</td>\n",
              "      <td>6.578754</td>\n",
              "      <td>9.770363</td>\n",
              "      <td>5.890671</td>\n",
              "      <td>3.612478</td>\n",
              "      <td>4.431704</td>\n",
              "      <td>7.137226</td>\n",
              "      <td>5.107837</td>\n",
              "      <td>3.293934</td>\n",
              "      <td>0.000000</td>\n",
              "    </tr>\n",
              "  </tbody>\n",
              "</table>\n",
              "</div>"
            ],
            "text/plain": [
              "           0          1          2  ...          7         8         9\n",
              "0   0.000000   6.685058  10.143471  ...   5.047772  3.633180  0.412311\n",
              "1   6.685058   0.000000   7.622336  ...   3.618011  8.015610  6.578754\n",
              "2  10.143471   7.622336   0.000000  ...  10.010494  8.424369  9.770363\n",
              "3   6.229767  10.354709   8.666026  ...   9.958414  3.482815  5.890671\n",
              "4   3.449638   5.337602  10.779147  ...   2.167948  6.709694  3.612478\n",
              "5   4.742362   4.634652   6.004998  ...   5.987487  3.945884  4.431704\n",
              "6   7.244998   0.616441   7.626270  ...   4.153312  8.471718  7.137226\n",
              "7   5.047772   3.618011  10.010494  ...   0.000000  7.769170  5.107837\n",
              "8   3.633180   8.015610   8.424369  ...   7.769170  0.000000  3.293934\n",
              "9   0.412311   6.578754   9.770363  ...   5.107837  3.293934  0.000000\n",
              "\n",
              "[10 rows x 10 columns]"
            ]
          },
          "metadata": {
            "tags": []
          },
          "execution_count": 12
        }
      ]
    },
    {
      "cell_type": "code",
      "metadata": {
        "colab": {
          "base_uri": "https://localhost:8080/",
          "height": 359
        },
        "id": "UNLyspkIGjoS",
        "outputId": "8c8baaf8-632c-41ea-e939-db9cd97b852a"
      },
      "source": [
        "df_d10_distance = array_to_df(d10_distance, df['user_id'])\n",
        "df_d10_distance"
      ],
      "execution_count": 13,
      "outputs": [
        {
          "output_type": "execute_result",
          "data": {
            "text/html": [
              "<div>\n",
              "<style scoped>\n",
              "    .dataframe tbody tr th:only-of-type {\n",
              "        vertical-align: middle;\n",
              "    }\n",
              "\n",
              "    .dataframe tbody tr th {\n",
              "        vertical-align: top;\n",
              "    }\n",
              "\n",
              "    .dataframe thead th {\n",
              "        text-align: right;\n",
              "    }\n",
              "</style>\n",
              "<table border=\"1\" class=\"dataframe\">\n",
              "  <thead>\n",
              "    <tr style=\"text-align: right;\">\n",
              "      <th></th>\n",
              "      <th>0</th>\n",
              "      <th>1</th>\n",
              "      <th>2</th>\n",
              "      <th>3</th>\n",
              "      <th>4</th>\n",
              "      <th>5</th>\n",
              "      <th>6</th>\n",
              "      <th>7</th>\n",
              "      <th>8</th>\n",
              "      <th>9</th>\n",
              "    </tr>\n",
              "  </thead>\n",
              "  <tbody>\n",
              "    <tr>\n",
              "      <th>0</th>\n",
              "      <td>0.000000</td>\n",
              "      <td>5.801514</td>\n",
              "      <td>7.875189</td>\n",
              "      <td>4.715803</td>\n",
              "      <td>3.400000</td>\n",
              "      <td>4.400003</td>\n",
              "      <td>6.400850</td>\n",
              "      <td>4.401025</td>\n",
              "      <td>3.200085</td>\n",
              "      <td>0.301025</td>\n",
              "    </tr>\n",
              "    <tr>\n",
              "      <th>1</th>\n",
              "      <td>5.801514</td>\n",
              "      <td>0.000000</td>\n",
              "      <td>5.582463</td>\n",
              "      <td>7.680689</td>\n",
              "      <td>5.300000</td>\n",
              "      <td>4.400005</td>\n",
              "      <td>0.600000</td>\n",
              "      <td>3.400010</td>\n",
              "      <td>6.435159</td>\n",
              "      <td>5.603800</td>\n",
              "    </tr>\n",
              "    <tr>\n",
              "      <th>2</th>\n",
              "      <td>7.875189</td>\n",
              "      <td>5.582463</td>\n",
              "      <td>0.000000</td>\n",
              "      <td>8.100007</td>\n",
              "      <td>7.408914</td>\n",
              "      <td>4.912532</td>\n",
              "      <td>5.689450</td>\n",
              "      <td>6.570254</td>\n",
              "      <td>6.820602</td>\n",
              "      <td>7.658364</td>\n",
              "    </tr>\n",
              "    <tr>\n",
              "      <th>3</th>\n",
              "      <td>4.715803</td>\n",
              "      <td>7.680689</td>\n",
              "      <td>8.100007</td>\n",
              "      <td>0.000000</td>\n",
              "      <td>7.801255</td>\n",
              "      <td>4.717102</td>\n",
              "      <td>7.873307</td>\n",
              "      <td>8.800205</td>\n",
              "      <td>3.000101</td>\n",
              "      <td>4.450759</td>\n",
              "    </tr>\n",
              "    <tr>\n",
              "      <th>4</th>\n",
              "      <td>3.400000</td>\n",
              "      <td>5.300000</td>\n",
              "      <td>7.408914</td>\n",
              "      <td>7.801255</td>\n",
              "      <td>0.000000</td>\n",
              "      <td>4.681464</td>\n",
              "      <td>5.900000</td>\n",
              "      <td>1.900310</td>\n",
              "      <td>6.600000</td>\n",
              "      <td>3.600000</td>\n",
              "    </tr>\n",
              "    <tr>\n",
              "      <th>5</th>\n",
              "      <td>4.400003</td>\n",
              "      <td>4.400005</td>\n",
              "      <td>4.912532</td>\n",
              "      <td>4.717102</td>\n",
              "      <td>4.681464</td>\n",
              "      <td>0.000000</td>\n",
              "      <td>4.500135</td>\n",
              "      <td>5.600019</td>\n",
              "      <td>3.401683</td>\n",
              "      <td>4.200000</td>\n",
              "    </tr>\n",
              "    <tr>\n",
              "      <th>6</th>\n",
              "      <td>6.400850</td>\n",
              "      <td>0.600000</td>\n",
              "      <td>5.689450</td>\n",
              "      <td>7.873307</td>\n",
              "      <td>5.900000</td>\n",
              "      <td>4.500135</td>\n",
              "      <td>0.000000</td>\n",
              "      <td>4.000001</td>\n",
              "      <td>6.595259</td>\n",
              "      <td>6.202035</td>\n",
              "    </tr>\n",
              "    <tr>\n",
              "      <th>7</th>\n",
              "      <td>4.401025</td>\n",
              "      <td>3.400010</td>\n",
              "      <td>6.570254</td>\n",
              "      <td>8.800205</td>\n",
              "      <td>1.900310</td>\n",
              "      <td>5.600019</td>\n",
              "      <td>4.000001</td>\n",
              "      <td>0.000000</td>\n",
              "      <td>7.600000</td>\n",
              "      <td>4.600288</td>\n",
              "    </tr>\n",
              "    <tr>\n",
              "      <th>8</th>\n",
              "      <td>3.200085</td>\n",
              "      <td>6.435159</td>\n",
              "      <td>6.820602</td>\n",
              "      <td>3.000101</td>\n",
              "      <td>6.600000</td>\n",
              "      <td>3.401683</td>\n",
              "      <td>6.595259</td>\n",
              "      <td>7.600000</td>\n",
              "      <td>0.000000</td>\n",
              "      <td>3.000014</td>\n",
              "    </tr>\n",
              "    <tr>\n",
              "      <th>9</th>\n",
              "      <td>0.301025</td>\n",
              "      <td>5.603800</td>\n",
              "      <td>7.658364</td>\n",
              "      <td>4.450759</td>\n",
              "      <td>3.600000</td>\n",
              "      <td>4.200000</td>\n",
              "      <td>6.202035</td>\n",
              "      <td>4.600288</td>\n",
              "      <td>3.000014</td>\n",
              "      <td>0.000000</td>\n",
              "    </tr>\n",
              "  </tbody>\n",
              "</table>\n",
              "</div>"
            ],
            "text/plain": [
              "          0         1         2  ...         7         8         9\n",
              "0  0.000000  5.801514  7.875189  ...  4.401025  3.200085  0.301025\n",
              "1  5.801514  0.000000  5.582463  ...  3.400010  6.435159  5.603800\n",
              "2  7.875189  5.582463  0.000000  ...  6.570254  6.820602  7.658364\n",
              "3  4.715803  7.680689  8.100007  ...  8.800205  3.000101  4.450759\n",
              "4  3.400000  5.300000  7.408914  ...  1.900310  6.600000  3.600000\n",
              "5  4.400003  4.400005  4.912532  ...  5.600019  3.401683  4.200000\n",
              "6  6.400850  0.600000  5.689450  ...  4.000001  6.595259  6.202035\n",
              "7  4.401025  3.400010  6.570254  ...  0.000000  7.600000  4.600288\n",
              "8  3.200085  6.435159  6.820602  ...  7.600000  0.000000  3.000014\n",
              "9  0.301025  5.603800  7.658364  ...  4.600288  3.000014  0.000000\n",
              "\n",
              "[10 rows x 10 columns]"
            ]
          },
          "metadata": {
            "tags": []
          },
          "execution_count": 13
        }
      ]
    },
    {
      "cell_type": "markdown",
      "metadata": {
        "id": "_OvYW8g3aXJ0"
      },
      "source": [
        "#<center><h1>Clustering Jerárquico</h1></center>"
      ]
    },
    {
      "cell_type": "code",
      "metadata": {
        "id": "wvza6EUBG2Pz"
      },
      "source": [
        "import matplotlib.pyplot as plt\n",
        "from scipy.cluster.hierarchy import dendrogram, linkage\n",
        "#from scipy.cluster import hierarchy\n",
        "# https://docs.scipy.org/doc/scipy/reference/generated/scipy.cluster.hierarchy.dendrogram.html"
      ],
      "execution_count": 14,
      "outputs": []
    },
    {
      "cell_type": "code",
      "metadata": {
        "id": "nC2Z8GugavqI"
      },
      "source": [
        "enlace_ward = linkage(df[movies], 'ward')\n",
        "enlace_average = linkage(df[movies], 'average')\n",
        "enlace_weighted = linkage(df[movies], 'weighted')\n",
        "enlace_centroid = linkage(df[movies], 'centroid')"
      ],
      "execution_count": 15,
      "outputs": []
    },
    {
      "cell_type": "code",
      "metadata": {
        "colab": {
          "base_uri": "https://localhost:8080/"
        },
        "id": "NlNGupPUoBPm",
        "outputId": "976db227-93df-45fc-e5ee-0dd03e194c66"
      },
      "source": [
        "enlace_ward"
      ],
      "execution_count": 16,
      "outputs": [
        {
          "output_type": "execute_result",
          "data": {
            "text/plain": [
              "array([[ 0.        ,  9.        ,  0.41231056,  2.        ],\n",
              "       [ 1.        ,  6.        ,  0.6164414 ,  2.        ],\n",
              "       [ 4.        ,  7.        ,  2.16794834,  2.        ],\n",
              "       [ 3.        ,  8.        ,  3.48281495,  2.        ],\n",
              "       [ 5.        , 10.        ,  5.2943366 ,  3.        ],\n",
              "       [13.        , 14.        ,  6.59317829,  5.        ],\n",
              "       [11.        , 12.        ,  6.66408283,  4.        ],\n",
              "       [ 2.        , 15.        , 10.62355873,  6.        ],\n",
              "       [16.        , 17.        , 12.8156935 , 10.        ]])"
            ]
          },
          "metadata": {
            "tags": []
          },
          "execution_count": 16
        }
      ]
    },
    {
      "cell_type": "markdown",
      "metadata": {
        "id": "jlXDHqxFdiFl"
      },
      "source": [
        "* En enlace Ward minimiza los cuadrados de las varianzas."
      ]
    },
    {
      "cell_type": "markdown",
      "metadata": {
        "id": "wpTF89MGgeA7"
      },
      "source": [
        "# <center><h1> Dendograma </h1></center>"
      ]
    },
    {
      "cell_type": "markdown",
      "metadata": {
        "id": "xnScEV8pPlz4"
      },
      "source": [
        "fig, axes = plt.subplots(2, 2, figsize=(15, 5))\n",
        "\n",
        "dn1 = hierarchy.dendrogram(enlace_ward, ax=axes[0], \n",
        "                           above_threshold_color='y',\n",
        "                           orientation='top')\n",
        "\n",
        "axes[0][0].set_title('Dendograma Enlace Ward', fontsize=15)\n",
        "axes[0][0].set_ylabel('Distancia')\n",
        "axes[0][0].set_xlabel('ID usuario de Netflix')\n",
        "\n",
        "\n",
        "dn2 = hierarchy.dendrogram(enlace_average, ax=axes[1],\n",
        "                           above_threshold_color='y',\n",
        "                           orientation='y')\n",
        "axes[0][1].set_title('Dendograma Enlace Average', fontsize=15)\n",
        "axes[0][1].set_ylabel('Distancia')\n",
        "axes[0][1].set_xlabel('ID usuario de Netflix')\n",
        "\n",
        "dn3 = hierarchy.dendrogram(enlace_weighted, ax=axes[2],\n",
        "                           above_threshold_color='y',\n",
        "                           orientation='top')\n",
        "axes[1][0].set_title('Dendograma Enlace Wieghted', fontsize=15)\n",
        "axes[1][0].set_ylabel('Distancia')\n",
        "axes[1][0].set_xlabel('ID usuario de Netflix')\n",
        "\n",
        "dn4 = hierarchy.dendrogram(enlace_centroid, ax=axes[3],\n",
        "                           above_threshold_color='y',\n",
        "                           orientation='top')\n",
        "axes[1][1].set_title('Dendograma Enlace Centroid', fontsize=15)\n",
        "axes[1][1].set_ylabel('Distancia')\n",
        "axes[1][1].set_xlabel('ID usuario de Netflix')\n",
        "\n",
        "hierarchy.set_link_color_palette(None)  # reset to default after use\n",
        "plt.show()"
      ]
    },
    {
      "cell_type": "code",
      "metadata": {
        "colab": {
          "base_uri": "https://localhost:8080/",
          "height": 355
        },
        "id": "oKzDwt9FHsuo",
        "outputId": "39d2fd64-3e7c-4451-c4c2-680e4ec43cea"
      },
      "source": [
        "fig, axes = plt.subplots(1, 2, figsize=(15, 5))\n",
        "\n",
        "dn1 = dendrogram(enlace_ward, ax=axes[0],\n",
        "                           above_threshold_color='y',\n",
        "                           orientation='top')\n",
        "axes[0].set_title('Dendograma Enlace Ward', fontsize=15)\n",
        "axes[0].set_ylabel('Distancia')\n",
        "axes[0].set_xlabel('ID usuario de Netflix')\n",
        "\n",
        "\n",
        "dn2 = dendrogram(enlace_weighted, ax=axes[1],\n",
        "                           above_threshold_color='y',\n",
        "                           orientation='top')\n",
        "axes[1].set_title('Dendograma Enlace Weighted', fontsize=15)\n",
        "axes[1].set_ylabel('Distancia')\n",
        "axes[1].set_xlabel('ID usuario de Netflix')\n",
        "plt.show()"
      ],
      "execution_count": 17,
      "outputs": [
        {
          "output_type": "display_data",
          "data": {
            "image/png": "[encoded data removed]",
            "text/plain": [
              "<Figure size 1080x360 with 2 Axes>"
            ]
          },
          "metadata": {
            "tags": [],
            "needs_background": "light"
          }
        }
      ]
    },
    {
      "cell_type": "code",
      "metadata": {
        "colab": {
          "base_uri": "https://localhost:8080/",
          "height": 355
        },
        "id": "OcJPiLSyP4Lo",
        "outputId": "61864941-4d13-4db6-f5d1-bc12bfc7c617"
      },
      "source": [
        "fig, axes = plt.subplots(1, 2, figsize=(15, 5))\n",
        "dn1 = dendrogram(enlace_ward, ax=axes[0],\n",
        "                           above_threshold_color='y',\n",
        "                           orientation='top')\n",
        "axes[0].set_title('Dendograma Enlace Ward', fontsize=15)\n",
        "axes[0].set_ylabel('Distancia')\n",
        "axes[0].set_xlabel('ID usuario de Netflix')\n",
        "\n",
        "dn2 = dendrogram(enlace_weighted, ax=axes[1],\n",
        "                           above_threshold_color='y',\n",
        "                           orientation='top')\n",
        "axes[1].set_title('Dendograma Enlace Weighted', fontsize=15)\n",
        "axes[1].set_ylabel('Distancia')\n",
        "axes[1].set_xlabel('ID usuario de Netflix')\n",
        "plt.show()"
      ],
      "execution_count": 18,
      "outputs": [
        {
          "output_type": "display_data",
          "data": {
            "image/png": "[encoded data removed]",
            "text/plain": [
              "<Figure size 1080x360 with 2 Axes>"
            ]
          },
          "metadata": {
            "tags": [],
            "needs_background": "light"
          }
        }
      ]
    },
    {
      "cell_type": "markdown",
      "metadata": {
        "id": "UwuKbkVCIxgi"
      },
      "source": [
        "#<center><h1> Clusterin Jerárquico ejemplo dos, curso Joanby</h1></center>"
      ]
    },
    {
      "cell_type": "code",
      "metadata": {
        "colab": {
          "base_uri": "https://localhost:8080/",
          "height": 283
        },
        "id": "5dotKBMLI_KE",
        "outputId": "c95c4c15-4d39-4bd8-d934-64410026de36"
      },
      "source": [
        "np.random.seed(4711)\n",
        "a = np.random.multivariate_normal([10,0],[[3,1],[1,4]], size = [100,])\n",
        "b = np.random.multivariate_normal([0,20], [[3,1],[1,4]], size = [50,])\n",
        "X = np.concatenate((a,b))\n",
        "print(X.shape)\n",
        "plt.scatter(X[:,0], X[:,1])\n",
        "plt.show()"
      ],
      "execution_count": 19,
      "outputs": [
        {
          "output_type": "stream",
          "text": [
            "(150, 2)\n"
          ],
          "name": "stdout"
        },
        {
          "output_type": "display_data",
          "data": {
            "image/png": "[encoded data removed]",
            "text/plain": [
              "<Figure size 432x288 with 1 Axes>"
            ]
          },
          "metadata": {
            "tags": [],
            "needs_background": "light"
          }
        }
      ]
    },
    {
      "cell_type": "code",
      "metadata": {
        "id": "jrXhhgEHI_BS"
      },
      "source": [
        "## calculamos distancia en este caso ward\n",
        "Z = linkage(X, \"ward\")"
      ],
      "execution_count": 20,
      "outputs": []
    },
    {
      "cell_type": "code",
      "metadata": {
        "id": "XO9IzPGYn92s"
      },
      "source": [
        "## coeficiente de cophenet\n",
        "from scipy.cluster.hierarchy import cophenet\n",
        "from scipy.spatial.distance import pdist"
      ],
      "execution_count": 22,
      "outputs": []
    },
    {
      "cell_type": "code",
      "metadata": {
        "colab": {
          "base_uri": "https://localhost:8080/"
        },
        "id": "8w--phIbI-tk",
        "outputId": "b1274397-c5d2-46e2-f881-d4e89a1e37ed"
      },
      "source": [
        "c, coph_dist = cophenet(Z, pdist(X))\n",
        "c"
      ],
      "execution_count": 23,
      "outputs": [
        {
          "output_type": "execute_result",
          "data": {
            "text/plain": [
              "0.9800148387574268"
            ]
          },
          "metadata": {
            "tags": []
          },
          "execution_count": 23
        }
      ]
    },
    {
      "cell_type": "code",
      "metadata": {
        "colab": {
          "base_uri": "https://localhost:8080/"
        },
        "id": "rNMdBW-oI-jb",
        "outputId": "2b254f52-0e9c-49a6-a42c-0a0406d17963"
      },
      "source": [
        "print(Z[152-len(X)])# cluster 152\n",
        "print(Z[158-len(X)])#cluster 158"
      ],
      "execution_count": 24,
      "outputs": [
        {
          "output_type": "stream",
          "text": [
            "[33.         68.          0.07106779  2.        ]\n",
            "[15.         69.          0.11428971  2.        ]\n"
          ],
          "name": "stdout"
        }
      ]
    },
    {
      "cell_type": "code",
      "metadata": {
        "colab": {
          "base_uri": "https://localhost:8080/",
          "height": 483
        },
        "id": "i1cSyZALI-ZH",
        "outputId": "1937bee4-f69e-4878-ca6e-38c902eb5e42"
      },
      "source": [
        "idx = [33,62,68]\n",
        "idx2 = [15,69,41]\n",
        "plt.figure(figsize=(10,8))\n",
        "plt.scatter(X[:,0], X[:,1])##pintar todos los puntos\n",
        "plt.scatter(X[idx,0], X[idx,1], c='r')##destacamos en rojo los puntos interesantes\n",
        "plt.scatter(X[idx2,0], X[idx2,1], c='y')##destacamos en amarillo el segundo cluster\n",
        "plt.show()"
      ],
      "execution_count": 25,
      "outputs": [
        {
          "output_type": "display_data",
          "data": {
            "image/png": "[encoded data removed]",
            "text/plain": [
              "<Figure size 720x576 with 1 Axes>"
            ]
          },
          "metadata": {
            "tags": [],
            "needs_background": "light"
          }
        }
      ]
    },
    {
      "cell_type": "markdown",
      "metadata": {
        "id": "R2aLpkbZKfzb"
      },
      "source": [
        "# <center><h1>Representación gráfica de un dendrograma</h1></center>"
      ]
    },
    {
      "cell_type": "code",
      "metadata": {
        "colab": {
          "base_uri": "https://localhost:8080/",
          "height": 538
        },
        "id": "32u3kV-SKdta",
        "outputId": "b8f311ac-8e7d-46c6-8a40-89099e432934"
      },
      "source": [
        "plt.figure(figsize=(25,10))\n",
        "plt.title(\"Dendrograma del clustering jerárquico\")\n",
        "plt.xlabel(\"Índices de la Muestra\")\n",
        "plt.ylabel(\"Distancias\")\n",
        "dendrogram(Z, leaf_rotation=90., leaf_font_size=8.0, color_threshold=0.7*180)\n",
        "plt.show()"
      ],
      "execution_count": 26,
      "outputs": [
        {
          "output_type": "display_data",
          "data": {
            "image/png": "[encoded data removed]",
            "text/plain": [
              "<Figure size 1800x720 with 1 Axes>"
            ]
          },
          "metadata": {
            "tags": [],
            "needs_background": "light"
          }
        }
      ]
    },
    {
      "cell_type": "markdown",
      "metadata": {
        "id": "LsP-o_bCNrEr"
      },
      "source": [
        "# <center><h1> Truncar el dendrograma </h1></center>\n"
      ]
    },
    {
      "cell_type": "code",
      "metadata": {
        "colab": {
          "base_uri": "https://localhost:8080/",
          "height": 546
        },
        "id": "LjO5poFdKdjS",
        "outputId": "968a20b5-295f-4027-82c0-a4c76989ac9c"
      },
      "source": [
        "plt.figure(figsize=(25,10))\n",
        "plt.title(\"Dendrograma del clustering jerárquico truncado\")\n",
        "plt.xlabel(\"Índices de la Muestra\")\n",
        "plt.ylabel(\"Distancias\")\n",
        "\n",
        "## color threshold: pinta los cluster de dendrograma por default escoge un 70% de la distancia\n",
        "dendrogram(Z, leaf_rotation=90., leaf_font_size=12.0, color_threshold=0.7*180,\n",
        "           truncate_mode=\"lastp\", p=10, show_leaf_counts=True, show_contracted=True)\n",
        "plt.show()"
      ],
      "execution_count": 38,
      "outputs": [
        {
          "output_type": "display_data",
          "data": {
            "image/png": "[encoded data removed]",
            "text/plain": [
              "<Figure size 1800x720 with 1 Axes>"
            ]
          },
          "metadata": {
            "tags": [],
            "needs_background": "light"
          }
        }
      ]
    },
    {
      "cell_type": "code",
      "metadata": {
        "colab": {
          "base_uri": "https://localhost:8080/",
          "height": 546
        },
        "id": "COUCC0DUKdZ1",
        "outputId": "94776e08-08ce-4e66-ac64-43b4400d0c7e"
      },
      "source": [
        "plt.figure(figsize=(25,10))\n",
        "plt.title(\"Dendrograma del clustering jerárquico truncado\")\n",
        "plt.xlabel(\"Índices de la Muestra\")\n",
        "plt.ylabel(\"Distancias\")\n",
        "\n",
        "## color threshold: pinta los cluster de dendrograma por default escoge un 70% de la distancia\n",
        "dendrogram(Z, leaf_rotation=90., leaf_font_size=12.0, color_threshold=0.7*180,\n",
        "           truncate_mode=\"lastp\", p=10, show_leaf_counts=True, show_contracted=True)\n",
        "plt.show()"
      ],
      "execution_count": 43,
      "outputs": [
        {
          "output_type": "display_data",
          "data": {
            "image/png": "[encoded data removed]",
            "text/plain": [
              "<Figure size 1800x720 with 1 Axes>"
            ]
          },
          "metadata": {
            "tags": [],
            "needs_background": "light"
          }
        }
      ]
    },
    {
      "cell_type": "code",
      "metadata": {
        "id": "CjjRmiMEKdQk"
      },
      "source": [
        "def dendrogram_tune(*args, **kwargs):\n",
        "    \n",
        "    max_d=kwargs.pop(\"max_d\", None)\n",
        "\n",
        "    if max_d and 'color_threshold' not in kwargs:\n",
        "        kwargs['color_threshold'] = max_d\n",
        "        \n",
        "    annotate_above = kwargs.pop('annotate_above', 0)\n",
        "    \n",
        "    ddata = dendrogram(*args,**kwargs)\n",
        "        \n",
        "    if not kwargs.get('no_plot', False):\n",
        "\n",
        "        plt.title(\"Clustering jerárquico con Dendrograma truncado\")\n",
        "        plt.xlabel(\"Índice del Dataset (o tamaño del cluster)\")\n",
        "        plt.ylabel(\"Distancia\")\n",
        "\n",
        "\n",
        "\n",
        "        for i, d, c in zip(ddata['icoord'], ddata['dcoord'], ddata['color_list']):\n",
        "            x = 0.5 * sum(i[1:3])\n",
        "            y = d[1]\n",
        "            if y>annotate_above:\n",
        "\n",
        "                plt.plot(x,y,'o',c=c)\n",
        "                plt.annotate('%.3g'%y, (x,y), xytext=(0,-5),\n",
        "                            textcoords=\"offset points\", va=\"top\", ha=\"center\")\n",
        "                \n",
        "    if max_d:\n",
        "        plt.axhline(y=max_d, c='k')\n",
        "        \n",
        "    return ddata"
      ],
      "execution_count": 69,
      "outputs": []
    },
    {
      "cell_type": "code",
      "metadata": {
        "colab": {
          "base_uri": "https://localhost:8080/",
          "height": 311
        },
        "id": "hFNuhAL5KdHT",
        "outputId": "5d8e1d1d-d792-42a2-9530-69e34653b0b0"
      },
      "source": [
        "dendrogram_tune(Z,truncate_mode='lastp',p=12, leaf_rotation=90., leaf_font_size=12.,\n",
        "                show_contracted=True,annotate_above=10, max_d=20)\n",
        "plt.show()"
      ],
      "execution_count": 70,
      "outputs": [
        {
          "output_type": "display_data",
          "data": {
            "image/png": "[encoded data removed]",
            "text/plain": [
              "<Figure size 432x288 with 1 Axes>"
            ]
          },
          "metadata": {
            "tags": [],
            "needs_background": "light"
          }
        }
      ]
    },
    {
      "cell_type": "code",
      "metadata": {
        "id": "Fyez_CeHXQ8p"
      },
      "source": [
        ""
      ],
      "execution_count": 71,
      "outputs": []
    },
    {
      "cell_type": "code",
      "metadata": {
        "colab": {
          "base_uri": "https://localhost:8080/",
          "height": 51
        },
        "id": "lBl3hzlRKc-D",
        "outputId": "70248e10-2c0d-4fd9-ba18-0148177d4552"
      },
      "source": [
        "        plt.figure(figsize=(10,15))"
      ],
      "execution_count": 68,
      "outputs": [
        {
          "output_type": "execute_result",
          "data": {
            "text/plain": [
              "<Figure size 720x1080 with 0 Axes>"
            ]
          },
          "metadata": {
            "tags": []
          },
          "execution_count": 68
        },
        {
          "output_type": "display_data",
          "data": {
            "text/plain": [
              "<Figure size 720x1080 with 0 Axes>"
            ]
          },
          "metadata": {
            "tags": []
          }
        }
      ]
    },
    {
      "cell_type": "code",
      "metadata": {
        "id": "ej7c1P7XKc07"
      },
      "source": [
        ""
      ],
      "execution_count": null,
      "outputs": []
    },
    {
      "cell_type": "code",
      "metadata": {
        "id": "XhQzyF-sKcrV"
      },
      "source": [
        ""
      ],
      "execution_count": null,
      "outputs": []
    },
    {
      "cell_type": "code",
      "metadata": {
        "id": "21OX6Sf-KchS"
      },
      "source": [
        ""
      ],
      "execution_count": null,
      "outputs": []
    },
    {
      "cell_type": "code",
      "metadata": {
        "id": "QvwY7GwIKcXb"
      },
      "source": [
        ""
      ],
      "execution_count": null,
      "outputs": []
    },
    {
      "cell_type": "code",
      "metadata": {
        "id": "_P0DIFGEKcM0"
      },
      "source": [
        ""
      ],
      "execution_count": null,
      "outputs": []
    },
    {
      "cell_type": "code",
      "metadata": {
        "id": "25e5TglkKb_p"
      },
      "source": [
        ""
      ],
      "execution_count": null,
      "outputs": []
    },
    {
      "cell_type": "code",
      "metadata": {
        "id": "bXtDFumsI96m"
      },
      "source": [
        ""
      ],
      "execution_count": null,
      "outputs": []
    }
  ]
}